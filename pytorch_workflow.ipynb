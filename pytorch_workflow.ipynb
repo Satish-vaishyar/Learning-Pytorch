{
 "cells": [
  {
   "cell_type": "code",
   "execution_count": 2,
   "id": "4e01c539",
   "metadata": {},
   "outputs": [],
   "source": [
    "import torch\n",
    "from torch import nn\n",
    "import matplotlib.pyplot as plt"
   ]
  },
  {
   "cell_type": "markdown",
   "id": "7d21ef1f",
   "metadata": {},
   "source": [
    "## 1. Data Preparing and loading\n",
    "\n",
    "Data can be almost anything\n",
    "* Excel\n",
    "* Images\n",
    "* Videos\n",
    "* Audio\n",
    "* DNA\n",
    "* Text\n",
    "\n",
    "Machine Learning is a game of two parts:\n",
    "1. Get data into a numerical representation.\n",
    "2. Build a model to learn patterns in that numerical representation"
   ]
  },
  {
   "cell_type": "code",
   "execution_count": 3,
   "id": "14b2a8d3",
   "metadata": {},
   "outputs": [
    {
     "data": {
      "text/plain": [
       "(tensor([[0.0000],\n",
       "         [0.0200],\n",
       "         [0.0400],\n",
       "         [0.0600],\n",
       "         [0.0800],\n",
       "         [0.1000],\n",
       "         [0.1200],\n",
       "         [0.1400],\n",
       "         [0.1600],\n",
       "         [0.1800]]),\n",
       " tensor([[0.3000],\n",
       "         [0.3140],\n",
       "         [0.3280],\n",
       "         [0.3420],\n",
       "         [0.3560],\n",
       "         [0.3700],\n",
       "         [0.3840],\n",
       "         [0.3980],\n",
       "         [0.4120],\n",
       "         [0.4260]]))"
      ]
     },
     "execution_count": 3,
     "metadata": {},
     "output_type": "execute_result"
    }
   ],
   "source": [
    "# Create known parameters\n",
    "\n",
    "weight = 0.7\n",
    "bias = 0.3\n",
    "\n",
    "# Create\n",
    "start = 0\n",
    "end = 1\n",
    "step = 0.02\n",
    "X = torch.arange(start, end, step).unsqueeze(dim=1)\n",
    "y = weight * X + bias\n",
    "\n",
    "X[:10], y[:10]"
   ]
  },
  {
   "cell_type": "code",
   "execution_count": 4,
   "id": "97a3c52b",
   "metadata": {},
   "outputs": [
    {
     "data": {
      "text/plain": [
       "(50, 50)"
      ]
     },
     "execution_count": 4,
     "metadata": {},
     "output_type": "execute_result"
    }
   ],
   "source": [
    "len(X), len(y)"
   ]
  },
  {
   "cell_type": "markdown",
   "id": "079b8bc3",
   "metadata": {},
   "source": [
    "### Splitting data into training and testing sets"
   ]
  },
  {
   "cell_type": "code",
   "execution_count": 5,
   "id": "62b2fbf0",
   "metadata": {},
   "outputs": [
    {
     "data": {
      "text/plain": [
       "(40, 40, 10, 10)"
      ]
     },
     "execution_count": 5,
     "metadata": {},
     "output_type": "execute_result"
    }
   ],
   "source": [
    "# Let's create a train and test sets for our data\n",
    "train_split = int(0.8 * len(X))\n",
    "X_train , y_train = X[:train_split], y[:train_split]\n",
    "X_test, y_test = X[train_split:], y[train_split:]\n",
    "\n",
    "len(X_train), len(y_train), len(X_test), len(y_test)"
   ]
  },
  {
   "cell_type": "code",
   "execution_count": 6,
   "id": "fe6c949d",
   "metadata": {},
   "outputs": [
    {
     "data": {
      "text/plain": [
       "(tensor([[0.0000],\n",
       "         [0.0200],\n",
       "         [0.0400],\n",
       "         [0.0600],\n",
       "         [0.0800],\n",
       "         [0.1000],\n",
       "         [0.1200],\n",
       "         [0.1400],\n",
       "         [0.1600],\n",
       "         [0.1800],\n",
       "         [0.2000],\n",
       "         [0.2200],\n",
       "         [0.2400],\n",
       "         [0.2600],\n",
       "         [0.2800],\n",
       "         [0.3000],\n",
       "         [0.3200],\n",
       "         [0.3400],\n",
       "         [0.3600],\n",
       "         [0.3800],\n",
       "         [0.4000],\n",
       "         [0.4200],\n",
       "         [0.4400],\n",
       "         [0.4600],\n",
       "         [0.4800],\n",
       "         [0.5000],\n",
       "         [0.5200],\n",
       "         [0.5400],\n",
       "         [0.5600],\n",
       "         [0.5800],\n",
       "         [0.6000],\n",
       "         [0.6200],\n",
       "         [0.6400],\n",
       "         [0.6600],\n",
       "         [0.6800],\n",
       "         [0.7000],\n",
       "         [0.7200],\n",
       "         [0.7400],\n",
       "         [0.7600],\n",
       "         [0.7800]]),\n",
       " tensor([[0.3000],\n",
       "         [0.3140],\n",
       "         [0.3280],\n",
       "         [0.3420],\n",
       "         [0.3560],\n",
       "         [0.3700],\n",
       "         [0.3840],\n",
       "         [0.3980],\n",
       "         [0.4120],\n",
       "         [0.4260],\n",
       "         [0.4400],\n",
       "         [0.4540],\n",
       "         [0.4680],\n",
       "         [0.4820],\n",
       "         [0.4960],\n",
       "         [0.5100],\n",
       "         [0.5240],\n",
       "         [0.5380],\n",
       "         [0.5520],\n",
       "         [0.5660],\n",
       "         [0.5800],\n",
       "         [0.5940],\n",
       "         [0.6080],\n",
       "         [0.6220],\n",
       "         [0.6360],\n",
       "         [0.6500],\n",
       "         [0.6640],\n",
       "         [0.6780],\n",
       "         [0.6920],\n",
       "         [0.7060],\n",
       "         [0.7200],\n",
       "         [0.7340],\n",
       "         [0.7480],\n",
       "         [0.7620],\n",
       "         [0.7760],\n",
       "         [0.7900],\n",
       "         [0.8040],\n",
       "         [0.8180],\n",
       "         [0.8320],\n",
       "         [0.8460]]))"
      ]
     },
     "execution_count": 6,
     "metadata": {},
     "output_type": "execute_result"
    }
   ],
   "source": [
    "X_train, y_train"
   ]
  },
  {
   "cell_type": "code",
   "execution_count": 7,
   "id": "d1fff5ae",
   "metadata": {},
   "outputs": [],
   "source": [
    "def plot_predictions(train_data=X_train,\n",
    "                     train_labels=y_train,\n",
    "                     test_data=X_test,\n",
    "                     test_labels=y_test,\n",
    "                     predictions=None):\n",
    "    \"\"\"\n",
    "    Plots training data, test data and compares predictions.\n",
    "    \"\"\"\n",
    "    plt.figure(figsize=(10, 7))\n",
    "\n",
    "    # Plot training data in blue\n",
    "    plt.scatter(train_data, train_labels, c='b', s=4, label=\"Training data\")\n",
    "\n",
    "    #Plot test data in green\n",
    "    plt.scatter(test_data, test_labels, c='g', s=4, label='Testing data')\n",
    "\n",
    "    # are there predictions?\n",
    "    if predictions is not None:\n",
    "        plt.scatter(test_data, predictions, c='r', s=4, label='Predictions')\n",
    "\n",
    "    # Show the legend\n",
    "    plt.legend(prop={\"size\": 14});"
   ]
  },
  {
   "cell_type": "code",
   "execution_count": 8,
   "id": "c8ae30ec",
   "metadata": {},
   "outputs": [
    {
     "data": {
      "image/png": "[encoded data removed]",
      "text/plain": [
       "<Figure size 1000x700 with 1 Axes>"
      ]
     },
     "metadata": {},
     "output_type": "display_data"
    }
   ],
   "source": [
    "plot_predictions();"
   ]
  },
  {
   "cell_type": "markdown",
   "id": "eb293cfe",
   "metadata": {},
   "source": [
    "## 2. Build model"
   ]
  },
  {
   "cell_type": "code",
   "execution_count": 9,
   "id": "519dd879",
   "metadata": {},
   "outputs": [],
   "source": [
    "# Create linear regression model class\n",
    "class LinearRegressionModel(nn.Module): # Almost everything in PyTorch inheritence in nn.Module\n",
    "    def __init__(self):\n",
    "        super().__init__()\n",
    "\n",
    "        # Initialize model parameters\n",
    "        self.weights = nn.Parameter(torch.randn(1, \n",
    "                                                requires_grad=True,\n",
    "                                                dtype=float))\n",
    "        \n",
    "        self.bias = nn.Parameter(torch.randn(1,\n",
    "                                             requires_grad=True,\n",
    "                                             dtype=torch.float))\n",
    "        \n",
    "    # forward() defines the computation in the model\n",
    "    def forward(self, x: torch.Tensor) -> torch.Tensor:\n",
    "        return self.weights * x + self.bias"
   ]
  },
  {
   "cell_type": "markdown",
   "id": "9f8b9793",
   "metadata": {},
   "source": [
    "### PyTorch model building essentials\n",
    "* torch.nn - contains all of the buildings for computational graphs (a neural network can be considered a computational graph) \n",
    "* torch.nn. Parameter - what parameters should our model try and learn, often a PyTorch layer from torch.nn will set these for us \n",
    "* torch.nn.Module - The base class for all neural network modules, if you subclass it, you should overwrite forward() \n",
    "* torch.optim - this where the optimizers in PyTorch live, they will help with radient descent\n",
    "* def forward() - All nn.module subclasses require you to overwirite forward(), this method defines what happens in the forward computation "
   ]
  },
  {
   "cell_type": "markdown",
   "id": "c4df714a",
   "metadata": {},
   "source": [
    "### Checking the contents of our PyTorch model"
   ]
  },
  {
   "cell_type": "code",
   "execution_count": 10,
   "id": "4f37ca84",
   "metadata": {},
   "outputs": [
    {
     "data": {
      "text/plain": [
       "[Parameter containing:\n",
       " tensor([0.3367], dtype=torch.float64, requires_grad=True),\n",
       " Parameter containing:\n",
       " tensor([0.1288], requires_grad=True)]"
      ]
     },
     "execution_count": 10,
     "metadata": {},
     "output_type": "execute_result"
    }
   ],
   "source": [
    "# Create a random seed\n",
    "torch.manual_seed(42)\n",
    "\n",
    "# Create an instance of the model\n",
    "model_0 = LinearRegressionModel()\n",
    "\n",
    "# Check out the parameters\n",
    "list(model_0.parameters())"
   ]
  },
  {
   "cell_type": "code",
   "execution_count": 11,
   "id": "d099b216",
   "metadata": {},
   "outputs": [
    {
     "data": {
      "text/plain": [
       "OrderedDict([('weights', tensor([0.3367], dtype=torch.float64)),\n",
       "             ('bias', tensor([0.1288]))])"
      ]
     },
     "execution_count": 11,
     "metadata": {},
     "output_type": "execute_result"
    }
   ],
   "source": [
    "# List name parameter\n",
    "model_0.state_dict()"
   ]
  },
  {
   "cell_type": "markdown",
   "id": "93ca754b",
   "metadata": {},
   "source": [
    "### Making predictions using `torch.inference_mode()`\n",
    "\n",
    "To check our model's predictive piwer, let's see how well it predicts`y_test` based on `xtest`"
   ]
  },
  {
   "cell_type": "code",
   "execution_count": 12,
   "id": "abc09945",
   "metadata": {},
   "outputs": [
    {
     "data": {
      "text/plain": [
       "(tensor([[0.8000],\n",
       "         [0.8200],\n",
       "         [0.8400],\n",
       "         [0.8600],\n",
       "         [0.8800],\n",
       "         [0.9000],\n",
       "         [0.9200],\n",
       "         [0.9400],\n",
       "         [0.9600],\n",
       "         [0.9800]]),\n",
       " tensor([[0.8600],\n",
       "         [0.8740],\n",
       "         [0.8880],\n",
       "         [0.9020],\n",
       "         [0.9160],\n",
       "         [0.9300],\n",
       "         [0.9440],\n",
       "         [0.9580],\n",
       "         [0.9720],\n",
       "         [0.9860]]))"
      ]
     },
     "execution_count": 12,
     "metadata": {},
     "output_type": "execute_result"
    }
   ],
   "source": [
    "X_test, y_test"
   ]
  },
  {
   "cell_type": "code",
   "execution_count": 13,
   "id": "ee2d8809",
   "metadata": {},
   "outputs": [
    {
     "data": {
      "text/plain": [
       "tensor([[0.3982],\n",
       "        [0.4049],\n",
       "        [0.4116],\n",
       "        [0.4184],\n",
       "        [0.4251],\n",
       "        [0.4318],\n",
       "        [0.4386],\n",
       "        [0.4453],\n",
       "        [0.4520],\n",
       "        [0.4588]], dtype=torch.float64)"
      ]
     },
     "execution_count": 13,
     "metadata": {},
     "output_type": "execute_result"
    }
   ],
   "source": [
    "with torch.inference_mode():\n",
    "    y_preds = model_0(X_test)\n",
    "\n",
    "y_preds"
   ]
  },
  {
   "cell_type": "code",
   "execution_count": 14,
   "id": "6010d0ba",
   "metadata": {},
   "outputs": [
    {
     "data": {
      "image/png": "[encoded data removed]",
      "text/plain": [
       "<Figure size 1000x700 with 1 Axes>"
      ]
     },
     "metadata": {},
     "output_type": "display_data"
    }
   ],
   "source": [
    "plot_predictions(predictions=y_preds)"
   ]
  },
  {
   "cell_type": "code",
   "execution_count": 15,
   "id": "5f1fbaed",
   "metadata": {},
   "outputs": [
    {
     "data": {
      "text/plain": [
       "tensor([[0.3982],\n",
       "        [0.4049],\n",
       "        [0.4116],\n",
       "        [0.4184],\n",
       "        [0.4251],\n",
       "        [0.4318],\n",
       "        [0.4386],\n",
       "        [0.4453],\n",
       "        [0.4520],\n",
       "        [0.4588]], dtype=torch.float64)"
      ]
     },
     "execution_count": 15,
     "metadata": {},
     "output_type": "execute_result"
    }
   ],
   "source": [
    "with torch.inference_mode():\n",
    "    y_preds = model_0(X_test)\n",
    "\n",
    "# Can also do something simmilar with torch.no_grad()\n",
    "with torch.no_grad():\n",
    "    y_preds = model_0(X_test)\n",
    "\n",
    "y_preds"
   ]
  },
  {
   "cell_type": "markdown",
   "id": "0e8cffde",
   "metadata": {},
   "source": [
    "## 3. Train model\n",
    "The whole idea of training is for a model to move from some *unknown* parameters (these may be random) to some *known* parameters. Or in other words from a poor representation of the data to a better representation of the data. One way to measure how poor or how wrong your models predictions are is to use a loss function. \n",
    "\n",
    "* Note: Loss function may also be called cost function or criterion in different areas. For our case, we're going to refer to it as a loss function. \n",
    "\n",
    "Things we need to train: \n",
    "* **Loss function :** A function to measure how wrong your model's predictions are to the ideal outputs, lower is better. \n",
    "* **Optimizer :** Takes into account the loss of a model and adjusts the model's parameters (e.g. weight & bias in our case) to improve the loss function.\n",
    "\n",
    "And specifically for PyTorch, we need:\n",
    "* A Training loop\n",
    "* A testing loop"
   ]
  },
  {
   "cell_type": "code",
   "execution_count": 16,
   "id": "8a3f7a37",
   "metadata": {},
   "outputs": [
    {
     "data": {
      "text/plain": [
       "[Parameter containing:\n",
       " tensor([0.3367], dtype=torch.float64, requires_grad=True),\n",
       " Parameter containing:\n",
       " tensor([0.1288], requires_grad=True)]"
      ]
     },
     "execution_count": 16,
     "metadata": {},
     "output_type": "execute_result"
    }
   ],
   "source": [
    "list(model_0.parameters())"
   ]
  },
  {
   "cell_type": "code",
   "execution_count": 17,
   "id": "cb3fc052",
   "metadata": {},
   "outputs": [
    {
     "data": {
      "text/plain": [
       "OrderedDict([('weights', tensor([0.3367], dtype=torch.float64)),\n",
       "             ('bias', tensor([0.1288]))])"
      ]
     },
     "execution_count": 17,
     "metadata": {},
     "output_type": "execute_result"
    }
   ],
   "source": [
    "# Check out model's parameter\n",
    "model_0.state_dict()"
   ]
  },
  {
   "cell_type": "code",
   "execution_count": 18,
   "id": "c99081fa",
   "metadata": {},
   "outputs": [],
   "source": [
    "# Setup a loss function\n",
    "loss_fn = nn.L1Loss()\n",
    "\n",
    "# Setup an optimizer (stochastic gradient descent)\n",
    "optimizer = torch.optim.SGD(params=model_0.parameters(),\n",
    "                            lr=0.01) # lr = learning rate (hyper parameter)"
   ]
  },
  {
   "cell_type": "markdown",
   "id": "a6927cc8",
   "metadata": {},
   "source": [
    "### Buildin a training and testing loop in PyTorch\n",
    "\n",
    "Things we need for training model\n",
    "0. Loop through the data\n",
    "1. Forward Pass(propagation)\n",
    "2. Calculate the loss\n",
    "3. Optimizer zero grad\n",
    "4. Loss Backward\n",
    "5. Optimizer step\n"
   ]
  },
  {
   "cell_type": "code",
   "execution_count": 19,
   "id": "795f0ace",
   "metadata": {},
   "outputs": [
    {
     "data": {
      "text/plain": [
       "[Parameter containing:\n",
       " tensor([0.3367], dtype=torch.float64, requires_grad=True),\n",
       " Parameter containing:\n",
       " tensor([0.1288], requires_grad=True)]"
      ]
     },
     "execution_count": 19,
     "metadata": {},
     "output_type": "execute_result"
    }
   ],
   "source": [
    "list(model_0.parameters())"
   ]
  },
  {
   "cell_type": "code",
   "execution_count": 20,
   "id": "a7ad305b",
   "metadata": {},
   "outputs": [
    {
     "name": "stdout",
     "output_type": "stream",
     "text": [
      "Loss: tensor(0.3129, dtype=torch.float64, grad_fn=<MeanBackward0>)\n",
      "Epoch: 0 | Test: 0.31288135462074396 | Test Loss: 0.48106517657284636\n",
      "Loss: tensor(0.3014, dtype=torch.float64, grad_fn=<MeanBackward0>)\n",
      "Loss: tensor(0.2898, dtype=torch.float64, grad_fn=<MeanBackward0>)\n",
      "Loss: tensor(0.2783, dtype=torch.float64, grad_fn=<MeanBackward0>)\n",
      "Loss: tensor(0.2668, dtype=torch.float64, grad_fn=<MeanBackward0>)\n",
      "Loss: tensor(0.2553, dtype=torch.float64, grad_fn=<MeanBackward0>)\n",
      "Loss: tensor(0.2438, dtype=torch.float64, grad_fn=<MeanBackward0>)\n",
      "Loss: tensor(0.2322, dtype=torch.float64, grad_fn=<MeanBackward0>)\n",
      "Loss: tensor(0.2207, dtype=torch.float64, grad_fn=<MeanBackward0>)\n",
      "Loss: tensor(0.2092, dtype=torch.float64, grad_fn=<MeanBackward0>)\n",
      "Loss: tensor(0.1977, dtype=torch.float64, grad_fn=<MeanBackward0>)\n",
      "Epoch: 10 | Test: 0.19767130161291763 | Test Loss: 0.34635512328282925\n",
      "Loss: tensor(0.1862, dtype=torch.float64, grad_fn=<MeanBackward0>)\n",
      "Loss: tensor(0.1746, dtype=torch.float64, grad_fn=<MeanBackward0>)\n",
      "Loss: tensor(0.1631, dtype=torch.float64, grad_fn=<MeanBackward0>)\n",
      "Loss: tensor(0.1516, dtype=torch.float64, grad_fn=<MeanBackward0>)\n",
      "Loss: tensor(0.1401, dtype=torch.float64, grad_fn=<MeanBackward0>)\n",
      "Loss: tensor(0.1285, dtype=torch.float64, grad_fn=<MeanBackward0>)\n",
      "Loss: tensor(0.1170, dtype=torch.float64, grad_fn=<MeanBackward0>)\n",
      "Loss: tensor(0.1061, dtype=torch.float64, grad_fn=<MeanBackward0>)\n",
      "Loss: tensor(0.0968, dtype=torch.float64, grad_fn=<MeanBackward0>)\n",
      "Loss: tensor(0.0891, dtype=torch.float64, grad_fn=<MeanBackward0>)\n",
      "Epoch: 20 | Test: 0.0890872000492173 | Test Loss: 0.21729647799466795\n",
      "Loss: tensor(0.0823, dtype=torch.float64, grad_fn=<MeanBackward0>)\n",
      "Loss: tensor(0.0764, dtype=torch.float64, grad_fn=<MeanBackward0>)\n",
      "Loss: tensor(0.0716, dtype=torch.float64, grad_fn=<MeanBackward0>)\n",
      "Loss: tensor(0.0675, dtype=torch.float64, grad_fn=<MeanBackward0>)\n",
      "Loss: tensor(0.0640, dtype=torch.float64, grad_fn=<MeanBackward0>)\n",
      "Loss: tensor(0.0610, dtype=torch.float64, grad_fn=<MeanBackward0>)\n",
      "Loss: tensor(0.0585, dtype=torch.float64, grad_fn=<MeanBackward0>)\n",
      "Loss: tensor(0.0564, dtype=torch.float64, grad_fn=<MeanBackward0>)\n",
      "Loss: tensor(0.0546, dtype=torch.float64, grad_fn=<MeanBackward0>)\n",
      "Loss: tensor(0.0531, dtype=torch.float64, grad_fn=<MeanBackward0>)\n",
      "Epoch: 30 | Test: 0.05314849356034055 | Test Loss: 0.1446400721350576\n",
      "Loss: tensor(0.0518, dtype=torch.float64, grad_fn=<MeanBackward0>)\n",
      "Loss: tensor(0.0507, dtype=torch.float64, grad_fn=<MeanBackward0>)\n",
      "Loss: tensor(0.0498, dtype=torch.float64, grad_fn=<MeanBackward0>)\n",
      "Loss: tensor(0.0490, dtype=torch.float64, grad_fn=<MeanBackward0>)\n",
      "Loss: tensor(0.0482, dtype=torch.float64, grad_fn=<MeanBackward0>)\n",
      "Loss: tensor(0.0475, dtype=torch.float64, grad_fn=<MeanBackward0>)\n",
      "Loss: tensor(0.0469, dtype=torch.float64, grad_fn=<MeanBackward0>)\n",
      "Loss: tensor(0.0464, dtype=torch.float64, grad_fn=<MeanBackward0>)\n",
      "Loss: tensor(0.0459, dtype=torch.float64, grad_fn=<MeanBackward0>)\n",
      "Loss: tensor(0.0454, dtype=torch.float64, grad_fn=<MeanBackward0>)\n",
      "Epoch: 40 | Test: 0.04543793101588774 | Test Loss: 0.11360938191817808\n",
      "Loss: tensor(0.0450, dtype=torch.float64, grad_fn=<MeanBackward0>)\n",
      "Loss: tensor(0.0446, dtype=torch.float64, grad_fn=<MeanBackward0>)\n",
      "Loss: tensor(0.0442, dtype=torch.float64, grad_fn=<MeanBackward0>)\n",
      "Loss: tensor(0.0438, dtype=torch.float64, grad_fn=<MeanBackward0>)\n",
      "Loss: tensor(0.0434, dtype=torch.float64, grad_fn=<MeanBackward0>)\n",
      "Loss: tensor(0.0431, dtype=torch.float64, grad_fn=<MeanBackward0>)\n",
      "Loss: tensor(0.0427, dtype=torch.float64, grad_fn=<MeanBackward0>)\n",
      "Loss: tensor(0.0424, dtype=torch.float64, grad_fn=<MeanBackward0>)\n",
      "Loss: tensor(0.0420, dtype=torch.float64, grad_fn=<MeanBackward0>)\n",
      "Loss: tensor(0.0417, dtype=torch.float64, grad_fn=<MeanBackward0>)\n",
      "Epoch: 50 | Test: 0.041678607941992046 | Test Loss: 0.0991993499781723\n",
      "Loss: tensor(0.0413, dtype=torch.float64, grad_fn=<MeanBackward0>)\n",
      "Loss: tensor(0.0410, dtype=torch.float64, grad_fn=<MeanBackward0>)\n",
      "Loss: tensor(0.0406, dtype=torch.float64, grad_fn=<MeanBackward0>)\n",
      "Loss: tensor(0.0403, dtype=torch.float64, grad_fn=<MeanBackward0>)\n",
      "Loss: tensor(0.0399, dtype=torch.float64, grad_fn=<MeanBackward0>)\n",
      "Loss: tensor(0.0396, dtype=torch.float64, grad_fn=<MeanBackward0>)\n",
      "Loss: tensor(0.0392, dtype=torch.float64, grad_fn=<MeanBackward0>)\n",
      "Loss: tensor(0.0389, dtype=torch.float64, grad_fn=<MeanBackward0>)\n",
      "Loss: tensor(0.0385, dtype=torch.float64, grad_fn=<MeanBackward0>)\n",
      "Loss: tensor(0.0382, dtype=torch.float64, grad_fn=<MeanBackward0>)\n",
      "Epoch: 60 | Test: 0.038189304210156275 | Test Loss: 0.08886617943332288\n",
      "Loss: tensor(0.0379, dtype=torch.float64, grad_fn=<MeanBackward0>)\n",
      "Loss: tensor(0.0375, dtype=torch.float64, grad_fn=<MeanBackward0>)\n",
      "Loss: tensor(0.0372, dtype=torch.float64, grad_fn=<MeanBackward0>)\n",
      "Loss: tensor(0.0368, dtype=torch.float64, grad_fn=<MeanBackward0>)\n",
      "Loss: tensor(0.0365, dtype=torch.float64, grad_fn=<MeanBackward0>)\n",
      "Loss: tensor(0.0361, dtype=torch.float64, grad_fn=<MeanBackward0>)\n",
      "Loss: tensor(0.0358, dtype=torch.float64, grad_fn=<MeanBackward0>)\n",
      "Loss: tensor(0.0354, dtype=torch.float64, grad_fn=<MeanBackward0>)\n",
      "Loss: tensor(0.0351, dtype=torch.float64, grad_fn=<MeanBackward0>)\n",
      "Loss: tensor(0.0348, dtype=torch.float64, grad_fn=<MeanBackward0>)\n",
      "Epoch: 70 | Test: 0.034760873370757894 | Test Loss: 0.08059368956507082\n",
      "Loss: tensor(0.0344, dtype=torch.float64, grad_fn=<MeanBackward0>)\n",
      "Loss: tensor(0.0341, dtype=torch.float64, grad_fn=<MeanBackward0>)\n",
      "Loss: tensor(0.0337, dtype=torch.float64, grad_fn=<MeanBackward0>)\n",
      "Loss: tensor(0.0334, dtype=torch.float64, grad_fn=<MeanBackward0>)\n",
      "Loss: tensor(0.0330, dtype=torch.float64, grad_fn=<MeanBackward0>)\n",
      "Loss: tensor(0.0327, dtype=torch.float64, grad_fn=<MeanBackward0>)\n",
      "Loss: tensor(0.0324, dtype=torch.float64, grad_fn=<MeanBackward0>)\n",
      "Loss: tensor(0.0320, dtype=torch.float64, grad_fn=<MeanBackward0>)\n",
      "Loss: tensor(0.0317, dtype=torch.float64, grad_fn=<MeanBackward0>)\n",
      "Loss: tensor(0.0313, dtype=torch.float64, grad_fn=<MeanBackward0>)\n",
      "Epoch: 80 | Test: 0.03132382100984506 | Test Loss: 0.07232119969681874\n",
      "Loss: tensor(0.0310, dtype=torch.float64, grad_fn=<MeanBackward0>)\n",
      "Loss: tensor(0.0306, dtype=torch.float64, grad_fn=<MeanBackward0>)\n",
      "Loss: tensor(0.0303, dtype=torch.float64, grad_fn=<MeanBackward0>)\n",
      "Loss: tensor(0.0300, dtype=torch.float64, grad_fn=<MeanBackward0>)\n",
      "Loss: tensor(0.0296, dtype=torch.float64, grad_fn=<MeanBackward0>)\n",
      "Loss: tensor(0.0293, dtype=torch.float64, grad_fn=<MeanBackward0>)\n",
      "Loss: tensor(0.0289, dtype=torch.float64, grad_fn=<MeanBackward0>)\n",
      "Loss: tensor(0.0286, dtype=torch.float64, grad_fn=<MeanBackward0>)\n",
      "Loss: tensor(0.0282, dtype=torch.float64, grad_fn=<MeanBackward0>)\n",
      "Loss: tensor(0.0279, dtype=torch.float64, grad_fn=<MeanBackward0>)\n",
      "Epoch: 90 | Test: 0.027887402333746047 | Test Loss: 0.06473560338743252\n",
      "Loss: tensor(0.0275, dtype=torch.float64, grad_fn=<MeanBackward0>)\n",
      "Loss: tensor(0.0272, dtype=torch.float64, grad_fn=<MeanBackward0>)\n",
      "Loss: tensor(0.0269, dtype=torch.float64, grad_fn=<MeanBackward0>)\n",
      "Loss: tensor(0.0265, dtype=torch.float64, grad_fn=<MeanBackward0>)\n",
      "Loss: tensor(0.0262, dtype=torch.float64, grad_fn=<MeanBackward0>)\n",
      "Loss: tensor(0.0258, dtype=torch.float64, grad_fn=<MeanBackward0>)\n",
      "Loss: tensor(0.0255, dtype=torch.float64, grad_fn=<MeanBackward0>)\n",
      "Loss: tensor(0.0251, dtype=torch.float64, grad_fn=<MeanBackward0>)\n",
      "Loss: tensor(0.0248, dtype=torch.float64, grad_fn=<MeanBackward0>)\n",
      "Loss: tensor(0.0245, dtype=torch.float64, grad_fn=<MeanBackward0>)\n",
      "Epoch: 100 | Test: 0.024458971494347677 | Test Loss: 0.05646311351918045\n",
      "Loss: tensor(0.0241, dtype=torch.float64, grad_fn=<MeanBackward0>)\n",
      "Loss: tensor(0.0238, dtype=torch.float64, grad_fn=<MeanBackward0>)\n",
      "Loss: tensor(0.0234, dtype=torch.float64, grad_fn=<MeanBackward0>)\n",
      "Loss: tensor(0.0231, dtype=torch.float64, grad_fn=<MeanBackward0>)\n",
      "Loss: tensor(0.0227, dtype=torch.float64, grad_fn=<MeanBackward0>)\n",
      "Loss: tensor(0.0224, dtype=torch.float64, grad_fn=<MeanBackward0>)\n",
      "Loss: tensor(0.0221, dtype=torch.float64, grad_fn=<MeanBackward0>)\n",
      "Loss: tensor(0.0217, dtype=torch.float64, grad_fn=<MeanBackward0>)\n",
      "Loss: tensor(0.0214, dtype=torch.float64, grad_fn=<MeanBackward0>)\n",
      "Loss: tensor(0.0210, dtype=torch.float64, grad_fn=<MeanBackward0>)\n",
      "Epoch: 110 | Test: 0.021020235356275833 | Test Loss: 0.048190623650928396\n",
      "Loss: tensor(0.0207, dtype=torch.float64, grad_fn=<MeanBackward0>)\n",
      "Loss: tensor(0.0203, dtype=torch.float64, grad_fn=<MeanBackward0>)\n",
      "Loss: tensor(0.0200, dtype=torch.float64, grad_fn=<MeanBackward0>)\n",
      "Loss: tensor(0.0196, dtype=torch.float64, grad_fn=<MeanBackward0>)\n",
      "Loss: tensor(0.0193, dtype=torch.float64, grad_fn=<MeanBackward0>)\n",
      "Loss: tensor(0.0190, dtype=torch.float64, grad_fn=<MeanBackward0>)\n",
      "Loss: tensor(0.0186, dtype=torch.float64, grad_fn=<MeanBackward0>)\n",
      "Loss: tensor(0.0183, dtype=torch.float64, grad_fn=<MeanBackward0>)\n",
      "Loss: tensor(0.0179, dtype=torch.float64, grad_fn=<MeanBackward0>)\n",
      "Loss: tensor(0.0176, dtype=torch.float64, grad_fn=<MeanBackward0>)\n",
      "Epoch: 120 | Test: 0.017585500457335833 | Test Loss: 0.040605027341542144\n",
      "Loss: tensor(0.0172, dtype=torch.float64, grad_fn=<MeanBackward0>)\n",
      "Loss: tensor(0.0169, dtype=torch.float64, grad_fn=<MeanBackward0>)\n",
      "Loss: tensor(0.0166, dtype=torch.float64, grad_fn=<MeanBackward0>)\n",
      "Loss: tensor(0.0162, dtype=torch.float64, grad_fn=<MeanBackward0>)\n",
      "Loss: tensor(0.0159, dtype=torch.float64, grad_fn=<MeanBackward0>)\n",
      "Loss: tensor(0.0155, dtype=torch.float64, grad_fn=<MeanBackward0>)\n",
      "Loss: tensor(0.0152, dtype=torch.float64, grad_fn=<MeanBackward0>)\n",
      "Loss: tensor(0.0148, dtype=torch.float64, grad_fn=<MeanBackward0>)\n",
      "Loss: tensor(0.0145, dtype=torch.float64, grad_fn=<MeanBackward0>)\n",
      "Loss: tensor(0.0142, dtype=torch.float64, grad_fn=<MeanBackward0>)\n",
      "Epoch: 130 | Test: 0.014155445027111153 | Test Loss: 0.03233253747329009\n",
      "Loss: tensor(0.0138, dtype=torch.float64, grad_fn=<MeanBackward0>)\n",
      "Loss: tensor(0.0135, dtype=torch.float64, grad_fn=<MeanBackward0>)\n",
      "Loss: tensor(0.0131, dtype=torch.float64, grad_fn=<MeanBackward0>)\n",
      "Loss: tensor(0.0128, dtype=torch.float64, grad_fn=<MeanBackward0>)\n",
      "Loss: tensor(0.0124, dtype=torch.float64, grad_fn=<MeanBackward0>)\n",
      "Loss: tensor(0.0121, dtype=torch.float64, grad_fn=<MeanBackward0>)\n",
      "Loss: tensor(0.0118, dtype=torch.float64, grad_fn=<MeanBackward0>)\n",
      "Loss: tensor(0.0114, dtype=torch.float64, grad_fn=<MeanBackward0>)\n",
      "Loss: tensor(0.0111, dtype=torch.float64, grad_fn=<MeanBackward0>)\n",
      "Loss: tensor(0.0107, dtype=torch.float64, grad_fn=<MeanBackward0>)\n",
      "Epoch: 140 | Test: 0.010716649702706606 | Test Loss: 0.024060047605038028\n",
      "Loss: tensor(0.0104, dtype=torch.float64, grad_fn=<MeanBackward0>)\n",
      "Loss: tensor(0.0100, dtype=torch.float64, grad_fn=<MeanBackward0>)\n",
      "Loss: tensor(0.0097, dtype=torch.float64, grad_fn=<MeanBackward0>)\n",
      "Loss: tensor(0.0093, dtype=torch.float64, grad_fn=<MeanBackward0>)\n",
      "Loss: tensor(0.0090, dtype=torch.float64, grad_fn=<MeanBackward0>)\n",
      "Loss: tensor(0.0087, dtype=torch.float64, grad_fn=<MeanBackward0>)\n",
      "Loss: tensor(0.0083, dtype=torch.float64, grad_fn=<MeanBackward0>)\n",
      "Loss: tensor(0.0080, dtype=torch.float64, grad_fn=<MeanBackward0>)\n",
      "Loss: tensor(0.0076, dtype=torch.float64, grad_fn=<MeanBackward0>)\n",
      "Loss: tensor(0.0073, dtype=torch.float64, grad_fn=<MeanBackward0>)\n",
      "Epoch: 150 | Test: 0.007283598580925614 | Test Loss: 0.01647445129565177\n",
      "Loss: tensor(0.0069, dtype=torch.float64, grad_fn=<MeanBackward0>)\n",
      "Loss: tensor(0.0066, dtype=torch.float64, grad_fn=<MeanBackward0>)\n",
      "Loss: tensor(0.0063, dtype=torch.float64, grad_fn=<MeanBackward0>)\n",
      "Loss: tensor(0.0059, dtype=torch.float64, grad_fn=<MeanBackward0>)\n",
      "Loss: tensor(0.0056, dtype=torch.float64, grad_fn=<MeanBackward0>)\n",
      "Loss: tensor(0.0052, dtype=torch.float64, grad_fn=<MeanBackward0>)\n",
      "Loss: tensor(0.0049, dtype=torch.float64, grad_fn=<MeanBackward0>)\n",
      "Loss: tensor(0.0045, dtype=torch.float64, grad_fn=<MeanBackward0>)\n",
      "Loss: tensor(0.0042, dtype=torch.float64, grad_fn=<MeanBackward0>)\n",
      "Loss: tensor(0.0039, dtype=torch.float64, grad_fn=<MeanBackward0>)\n",
      "Epoch: 160 | Test: 0.0038518593735419352 | Test Loss: 0.008201961427399717\n",
      "Loss: tensor(0.0035, dtype=torch.float64, grad_fn=<MeanBackward0>)\n",
      "Loss: tensor(0.0032, dtype=torch.float64, grad_fn=<MeanBackward0>)\n",
      "Loss: tensor(0.0028, dtype=torch.float64, grad_fn=<MeanBackward0>)\n",
      "Loss: tensor(0.0025, dtype=torch.float64, grad_fn=<MeanBackward0>)\n",
      "Loss: tensor(0.0021, dtype=torch.float64, grad_fn=<MeanBackward0>)\n",
      "Loss: tensor(0.0018, dtype=torch.float64, grad_fn=<MeanBackward0>)\n",
      "Loss: tensor(0.0015, dtype=torch.float64, grad_fn=<MeanBackward0>)\n",
      "Loss: tensor(0.0012, dtype=torch.float64, grad_fn=<MeanBackward0>)\n",
      "Loss: tensor(0.0026, dtype=torch.float64, grad_fn=<MeanBackward0>)\n",
      "Loss: tensor(0.0089, dtype=torch.float64, grad_fn=<MeanBackward0>)\n",
      "Epoch: 170 | Test: 0.008932297596869877 | Test Loss: 0.005023518218341572\n",
      "Loss: tensor(0.0026, dtype=torch.float64, grad_fn=<MeanBackward0>)\n",
      "Loss: tensor(0.0089, dtype=torch.float64, grad_fn=<MeanBackward0>)\n",
      "Loss: tensor(0.0026, dtype=torch.float64, grad_fn=<MeanBackward0>)\n",
      "Loss: tensor(0.0089, dtype=torch.float64, grad_fn=<MeanBackward0>)\n",
      "Loss: tensor(0.0026, dtype=torch.float64, grad_fn=<MeanBackward0>)\n",
      "Loss: tensor(0.0089, dtype=torch.float64, grad_fn=<MeanBackward0>)\n",
      "Loss: tensor(0.0026, dtype=torch.float64, grad_fn=<MeanBackward0>)\n",
      "Loss: tensor(0.0089, dtype=torch.float64, grad_fn=<MeanBackward0>)\n",
      "Loss: tensor(0.0026, dtype=torch.float64, grad_fn=<MeanBackward0>)\n",
      "Loss: tensor(0.0089, dtype=torch.float64, grad_fn=<MeanBackward0>)\n",
      "Epoch: 180 | Test: 0.008932297596869877 | Test Loss: 0.005023518218341572\n",
      "Loss: tensor(0.0026, dtype=torch.float64, grad_fn=<MeanBackward0>)\n",
      "Loss: tensor(0.0089, dtype=torch.float64, grad_fn=<MeanBackward0>)\n",
      "Loss: tensor(0.0026, dtype=torch.float64, grad_fn=<MeanBackward0>)\n",
      "Loss: tensor(0.0089, dtype=torch.float64, grad_fn=<MeanBackward0>)\n",
      "Loss: tensor(0.0026, dtype=torch.float64, grad_fn=<MeanBackward0>)\n",
      "Loss: tensor(0.0089, dtype=torch.float64, grad_fn=<MeanBackward0>)\n",
      "Loss: tensor(0.0026, dtype=torch.float64, grad_fn=<MeanBackward0>)\n",
      "Loss: tensor(0.0089, dtype=torch.float64, grad_fn=<MeanBackward0>)\n",
      "Loss: tensor(0.0026, dtype=torch.float64, grad_fn=<MeanBackward0>)\n",
      "Loss: tensor(0.0089, dtype=torch.float64, grad_fn=<MeanBackward0>)\n",
      "Epoch: 190 | Test: 0.008932297596869877 | Test Loss: 0.005023518218341572\n",
      "Loss: tensor(0.0026, dtype=torch.float64, grad_fn=<MeanBackward0>)\n",
      "Loss: tensor(0.0089, dtype=torch.float64, grad_fn=<MeanBackward0>)\n",
      "Loss: tensor(0.0026, dtype=torch.float64, grad_fn=<MeanBackward0>)\n",
      "Loss: tensor(0.0089, dtype=torch.float64, grad_fn=<MeanBackward0>)\n",
      "Loss: tensor(0.0026, dtype=torch.float64, grad_fn=<MeanBackward0>)\n",
      "Loss: tensor(0.0089, dtype=torch.float64, grad_fn=<MeanBackward0>)\n",
      "Loss: tensor(0.0026, dtype=torch.float64, grad_fn=<MeanBackward0>)\n",
      "Loss: tensor(0.0089, dtype=torch.float64, grad_fn=<MeanBackward0>)\n",
      "Loss: tensor(0.0026, dtype=torch.float64, grad_fn=<MeanBackward0>)\n",
      "Loss: tensor(0.0089, dtype=torch.float64, grad_fn=<MeanBackward0>)\n",
      "Epoch: 200 | Test: 0.008932297596869877 | Test Loss: 0.005023518218341572\n",
      "Loss: tensor(0.0026, dtype=torch.float64, grad_fn=<MeanBackward0>)\n",
      "Loss: tensor(0.0089, dtype=torch.float64, grad_fn=<MeanBackward0>)\n",
      "Loss: tensor(0.0026, dtype=torch.float64, grad_fn=<MeanBackward0>)\n",
      "Loss: tensor(0.0089, dtype=torch.float64, grad_fn=<MeanBackward0>)\n",
      "Loss: tensor(0.0026, dtype=torch.float64, grad_fn=<MeanBackward0>)\n",
      "Loss: tensor(0.0089, dtype=torch.float64, grad_fn=<MeanBackward0>)\n",
      "Loss: tensor(0.0026, dtype=torch.float64, grad_fn=<MeanBackward0>)\n",
      "Loss: tensor(0.0089, dtype=torch.float64, grad_fn=<MeanBackward0>)\n",
      "Loss: tensor(0.0026, dtype=torch.float64, grad_fn=<MeanBackward0>)\n",
      "Loss: tensor(0.0089, dtype=torch.float64, grad_fn=<MeanBackward0>)\n",
      "Epoch: 210 | Test: 0.008932297596869877 | Test Loss: 0.005023518218341572\n",
      "Loss: tensor(0.0026, dtype=torch.float64, grad_fn=<MeanBackward0>)\n",
      "Loss: tensor(0.0089, dtype=torch.float64, grad_fn=<MeanBackward0>)\n",
      "Loss: tensor(0.0026, dtype=torch.float64, grad_fn=<MeanBackward0>)\n",
      "Loss: tensor(0.0089, dtype=torch.float64, grad_fn=<MeanBackward0>)\n",
      "Loss: tensor(0.0026, dtype=torch.float64, grad_fn=<MeanBackward0>)\n",
      "Loss: tensor(0.0089, dtype=torch.float64, grad_fn=<MeanBackward0>)\n",
      "Loss: tensor(0.0026, dtype=torch.float64, grad_fn=<MeanBackward0>)\n",
      "Loss: tensor(0.0089, dtype=torch.float64, grad_fn=<MeanBackward0>)\n",
      "Loss: tensor(0.0026, dtype=torch.float64, grad_fn=<MeanBackward0>)\n",
      "Loss: tensor(0.0089, dtype=torch.float64, grad_fn=<MeanBackward0>)\n",
      "Epoch: 220 | Test: 0.008932297596869877 | Test Loss: 0.005023518218341572\n",
      "Loss: tensor(0.0026, dtype=torch.float64, grad_fn=<MeanBackward0>)\n",
      "Loss: tensor(0.0089, dtype=torch.float64, grad_fn=<MeanBackward0>)\n",
      "Loss: tensor(0.0026, dtype=torch.float64, grad_fn=<MeanBackward0>)\n",
      "Loss: tensor(0.0089, dtype=torch.float64, grad_fn=<MeanBackward0>)\n",
      "Loss: tensor(0.0026, dtype=torch.float64, grad_fn=<MeanBackward0>)\n",
      "Loss: tensor(0.0089, dtype=torch.float64, grad_fn=<MeanBackward0>)\n",
      "Loss: tensor(0.0026, dtype=torch.float64, grad_fn=<MeanBackward0>)\n",
      "Loss: tensor(0.0089, dtype=torch.float64, grad_fn=<MeanBackward0>)\n",
      "Loss: tensor(0.0026, dtype=torch.float64, grad_fn=<MeanBackward0>)\n",
      "Loss: tensor(0.0089, dtype=torch.float64, grad_fn=<MeanBackward0>)\n",
      "Epoch: 230 | Test: 0.008932297596869877 | Test Loss: 0.005023518218341572\n",
      "Loss: tensor(0.0026, dtype=torch.float64, grad_fn=<MeanBackward0>)\n",
      "Loss: tensor(0.0089, dtype=torch.float64, grad_fn=<MeanBackward0>)\n",
      "Loss: tensor(0.0026, dtype=torch.float64, grad_fn=<MeanBackward0>)\n",
      "Loss: tensor(0.0089, dtype=torch.float64, grad_fn=<MeanBackward0>)\n",
      "Loss: tensor(0.0026, dtype=torch.float64, grad_fn=<MeanBackward0>)\n",
      "Loss: tensor(0.0089, dtype=torch.float64, grad_fn=<MeanBackward0>)\n",
      "Loss: tensor(0.0026, dtype=torch.float64, grad_fn=<MeanBackward0>)\n",
      "Loss: tensor(0.0089, dtype=torch.float64, grad_fn=<MeanBackward0>)\n",
      "Loss: tensor(0.0026, dtype=torch.float64, grad_fn=<MeanBackward0>)\n",
      "Loss: tensor(0.0089, dtype=torch.float64, grad_fn=<MeanBackward0>)\n",
      "Epoch: 240 | Test: 0.008932297596869877 | Test Loss: 0.005023518218341572\n",
      "Loss: tensor(0.0026, dtype=torch.float64, grad_fn=<MeanBackward0>)\n",
      "Loss: tensor(0.0089, dtype=torch.float64, grad_fn=<MeanBackward0>)\n",
      "Loss: tensor(0.0026, dtype=torch.float64, grad_fn=<MeanBackward0>)\n",
      "Loss: tensor(0.0089, dtype=torch.float64, grad_fn=<MeanBackward0>)\n",
      "Loss: tensor(0.0026, dtype=torch.float64, grad_fn=<MeanBackward0>)\n",
      "Loss: tensor(0.0089, dtype=torch.float64, grad_fn=<MeanBackward0>)\n",
      "Loss: tensor(0.0026, dtype=torch.float64, grad_fn=<MeanBackward0>)\n",
      "Loss: tensor(0.0089, dtype=torch.float64, grad_fn=<MeanBackward0>)\n",
      "Loss: tensor(0.0026, dtype=torch.float64, grad_fn=<MeanBackward0>)\n"
     ]
    }
   ],
   "source": [
    "epochs = 250\n",
    "\n",
    "# Model training\n",
    "epoch_count = []\n",
    "loss_values = []\n",
    "test_loss_values = []\n",
    "\n",
    "### Training\n",
    "# 0. Loop through the data\n",
    "for epoch in range(epochs):\n",
    "    # Set the model to training mode\n",
    "    model_0.train() # Train mode in Pytorch sets all parameters require gradients to require gradients\n",
    "    \n",
    "    # 1. Forward Pass\n",
    "    y_pred = model_0(X_train)\n",
    "\n",
    "    # 2. Calculate the loss\n",
    "    loss = loss_fn(y_pred, y_train)\n",
    "    print(\"Loss:\",loss)\n",
    "\n",
    "    # 3. Optimizer zero grad\n",
    "    optimizer.zero_grad()\n",
    "\n",
    "    # 4. Perform backpropogation\n",
    "    loss.backward()\n",
    "\n",
    "    # 5. Step the optimizer\n",
    "    optimizer.step()\n",
    "\n",
    "    # Testing\n",
    "    model_0.eval()\n",
    "    with torch.inference_mode(): # turns off gradient tracking\n",
    "        # 1. Do the forward pass \n",
    "        test_pred = model_0(X_test)\n",
    "\n",
    "        # 2. Calculate the loss\n",
    "        test_loss = loss_fn(test_pred, y_test)\n",
    "\n",
    "    if epoch%10 == 0:\n",
    "        epoch_count.append(epoch)\n",
    "        loss_values.append(loss)\n",
    "        test_loss_values.append(test_loss)\n",
    "        print(f\"Epoch: {epoch} | Test: {loss} | Test Loss: {test_loss}\")"
   ]
  },
  {
   "cell_type": "code",
   "execution_count": 21,
   "id": "0abced5b",
   "metadata": {},
   "outputs": [],
   "source": [
    "with torch.inference_mode():\n",
    "    y_preds_new = model_0(X_test)"
   ]
  },
  {
   "cell_type": "code",
   "execution_count": 22,
   "id": "2d92a7d7",
   "metadata": {},
   "outputs": [
    {
     "data": {
      "text/plain": [
       "OrderedDict([('weights', tensor([0.6990], dtype=torch.float64)),\n",
       "             ('bias', tensor([0.3093]))])"
      ]
     },
     "execution_count": 22,
     "metadata": {},
     "output_type": "execute_result"
    }
   ],
   "source": [
    "model_0.state_dict()"
   ]
  },
  {
   "cell_type": "code",
   "execution_count": 23,
   "id": "d53107f4",
   "metadata": {},
   "outputs": [
    {
     "data": {
      "image/png": "[encoded data removed]",
      "text/plain": [
       "<Figure size 1000x700 with 1 Axes>"
      ]
     },
     "metadata": {},
     "output_type": "display_data"
    }
   ],
   "source": [
    "plot_predictions(predictions=y_preds_new)\n",
    "plt.title(\"Predictions Graph\")\n",
    "plt.xlabel('Input')\n",
    "plt.ylabel('Output')\n",
    "plt.savefig(\"Predictions.png\")"
   ]
  },
  {
   "cell_type": "code",
   "execution_count": 24,
   "id": "811102af",
   "metadata": {},
   "outputs": [
    {
     "data": {
      "text/plain": [
       "array([0.31288135, 0.1976713 , 0.0890872 , 0.05314849, 0.04543793,\n",
       "       0.04167861, 0.0381893 , 0.03476087, 0.03132382, 0.0278874 ,\n",
       "       0.02445897, 0.02102024, 0.0175855 , 0.01415545, 0.01071665,\n",
       "       0.0072836 , 0.00385186, 0.0089323 , 0.0089323 , 0.0089323 ,\n",
       "       0.0089323 , 0.0089323 , 0.0089323 , 0.0089323 , 0.0089323 ])"
      ]
     },
     "execution_count": 24,
     "metadata": {},
     "output_type": "execute_result"
    }
   ],
   "source": [
    "import numpy as np\n",
    "np.array(torch.tensor(loss_values).cpu().numpy())"
   ]
  },
  {
   "cell_type": "code",
   "execution_count": 25,
   "id": "03e720cf",
   "metadata": {},
   "outputs": [
    {
     "data": {
      "image/png": "[encoded data removed]",
      "text/plain": [
       "<Figure size 640x480 with 1 Axes>"
      ]
     },
     "metadata": {},
     "output_type": "display_data"
    }
   ],
   "source": [
    "# Plot of the loss curves\n",
    "plt.plot(epoch_count, np.array(torch.tensor(loss_values).cpu().numpy()), label=\"Train loss\")\n",
    "plt.plot(epoch_count, test_loss_values, label=\"Test loss\")\n",
    "plt.title(\"Training and Test loss curves\")\n",
    "plt.ylabel(\"Loss\")\n",
    "plt.xlabel(\"Epochs\")\n",
    "plt.legend()\n",
    "plt.savefig('loss_curves.png')\n",
    "plt.show()"
   ]
  },
  {
   "cell_type": "markdown",
   "id": "fcf0646e",
   "metadata": {},
   "source": [
    "### Saving a model in PyTorch\n",
    "\n",
    "3 types for saving and loading model\n",
    "\n",
    "1. `torch.save()`- in pickle format\n",
    "2. `torch.load()` - load the saved model\n",
    "3. `torch.nn.Model.load_state_dict()` - load a model's saved state dictionary"
   ]
  },
  {
   "cell_type": "code",
   "execution_count": 26,
   "id": "6fc543e7",
   "metadata": {},
   "outputs": [
    {
     "data": {
      "text/plain": [
       "OrderedDict([('weights', tensor([0.6990], dtype=torch.float64)),\n",
       "             ('bias', tensor([0.3093]))])"
      ]
     },
     "execution_count": 26,
     "metadata": {},
     "output_type": "execute_result"
    }
   ],
   "source": [
    "model_0.state_dict()"
   ]
  },
  {
   "cell_type": "code",
   "execution_count": 27,
   "id": "9380f4f0",
   "metadata": {},
   "outputs": [],
   "source": [
    "# Saving a PyTorch model\n",
    "from pathlib import Path\n",
    "MODEL_PATH = Path(\"models\")\n",
    "MODEL_PATH.mkdir(parents=True, exist_ok=True)\n",
    "torch.save(model_0, r\"models\\01_pytorch_workflow_model_0.pkl\")"
   ]
  },
  {
   "cell_type": "code",
   "execution_count": 28,
   "id": "f78a8003",
   "metadata": {},
   "outputs": [],
   "source": [
    "# Load the Model\n",
    "loaded_model = torch.load(r'models\\01_pytorch_workflow_model_0.pkl', weights_only=False)"
   ]
  },
  {
   "cell_type": "code",
   "execution_count": 29,
   "id": "37638bca",
   "metadata": {},
   "outputs": [
    {
     "data": {
      "text/plain": [
       "LinearRegressionModel()"
      ]
     },
     "execution_count": 29,
     "metadata": {},
     "output_type": "execute_result"
    }
   ],
   "source": [
    "loaded_model"
   ]
  },
  {
   "cell_type": "code",
   "execution_count": 30,
   "id": "9681402a",
   "metadata": {},
   "outputs": [],
   "source": [
    "with torch.inference_mode():\n",
    "    y_new = loaded_model(X_test)"
   ]
  },
  {
   "cell_type": "code",
   "execution_count": 31,
   "id": "fbdbf793",
   "metadata": {},
   "outputs": [
    {
     "data": {
      "image/png": "[encoded data removed]",
      "text/plain": [
       "<Figure size 1000x700 with 1 Axes>"
      ]
     },
     "metadata": {},
     "output_type": "display_data"
    }
   ],
   "source": [
    "plot_predictions(predictions=y_new)"
   ]
  },
  {
   "cell_type": "markdown",
   "id": "1bc3c034",
   "metadata": {},
   "source": [
    "### 6.1 Data"
   ]
  },
  {
   "cell_type": "code",
   "execution_count": 32,
   "id": "df37dc2a",
   "metadata": {},
   "outputs": [
    {
     "data": {
      "text/plain": [
       "(tensor([[0.0000],\n",
       "         [0.0200],\n",
       "         [0.0400],\n",
       "         [0.0600],\n",
       "         [0.0800],\n",
       "         [0.1000],\n",
       "         [0.1200],\n",
       "         [0.1400],\n",
       "         [0.1600],\n",
       "         [0.1800]]),\n",
       " tensor([[0.3000],\n",
       "         [0.3140],\n",
       "         [0.3280],\n",
       "         [0.3420],\n",
       "         [0.3560],\n",
       "         [0.3700],\n",
       "         [0.3840],\n",
       "         [0.3980],\n",
       "         [0.4120],\n",
       "         [0.4260]]))"
      ]
     },
     "execution_count": 32,
     "metadata": {},
     "output_type": "execute_result"
    }
   ],
   "source": [
    "# Create some data using the liner regression formula of y = weight*X + bias\n",
    "weight = 0.7\n",
    "bias = 0.3\n",
    "\n",
    "# Create range values\n",
    "start = 0\n",
    "end = 1\n",
    "step = 0.02\n",
    "\n",
    "# Create X and Y \n",
    "X = torch.arange(start, end, step).unsqueeze(dim=1)\n",
    "y = weight*X + bias\n",
    "X[:10], y[:10]"
   ]
  },
  {
   "cell_type": "code",
   "execution_count": 33,
   "id": "7ebc66f2",
   "metadata": {},
   "outputs": [
    {
     "data": {
      "text/plain": [
       "(40, 10, 40, 10)"
      ]
     },
     "execution_count": 33,
     "metadata": {},
     "output_type": "execute_result"
    }
   ],
   "source": [
    "# Split data\n",
    "train_split = int(0.8*len(X))\n",
    "X_train, y_train = X[:train_split], y[:train_split]\n",
    "X_test, y_test = X[train_split:], y[train_split:]\n",
    "len(X_train), len(X_test), len(y_train), len(y_test)"
   ]
  },
  {
   "cell_type": "code",
   "execution_count": 34,
   "id": "ec6d40b3",
   "metadata": {},
   "outputs": [
    {
     "data": {
      "image/png": "[encoded data removed]",
      "text/plain": [
       "<Figure size 1000x700 with 1 Axes>"
      ]
     },
     "metadata": {},
     "output_type": "display_data"
    }
   ],
   "source": [
    "# Plot the data\n",
    "plot_predictions(X_train, y_train, X_test, y_test)"
   ]
  },
  {
   "cell_type": "markdown",
   "id": "34f45683",
   "metadata": {},
   "source": [
    "### 6.2 Building a Pytorch Linear Model"
   ]
  },
  {
   "cell_type": "code",
   "execution_count": 37,
   "id": "a6e4478f",
   "metadata": {},
   "outputs": [
    {
     "data": {
      "text/plain": [
       "(OrderedDict([('linear_layer.weight', tensor([[0.7645]])),\n",
       "              ('linear_layer.bias', tensor([0.8300]))]),\n",
       " LinearRegressionModelV2(\n",
       "   (linear_layer): Linear(in_features=1, out_features=1, bias=True)\n",
       " ))"
      ]
     },
     "execution_count": 37,
     "metadata": {},
     "output_type": "execute_result"
    }
   ],
   "source": [
    "class LinearRegressionModelV2(nn.Module):\n",
    "    def __init__(self):\n",
    "        super().__init__()\n",
    "\n",
    "        # Use nn.Linear() for creating a model parameters\n",
    "        self.linear_layer = nn.Linear(in_features=1,\n",
    "                                      out_features=1)\n",
    "        \n",
    "    # Forward method\n",
    "    def forward(self, x: torch.Tensor) -> torch.Tensor:\n",
    "        return self.linear_layer(x)\n",
    "\n",
    "# set manual seed\n",
    "torch.manual_seed(42)\n",
    "model_1 = LinearRegressionModelV2()\n",
    "model_1.state_dict(), model_1"
   ]
  },
  {
   "cell_type": "code",
   "execution_count": 38,
   "id": "ebb94d37",
   "metadata": {},
   "outputs": [],
   "source": [
    "with torch.inference_mode():\n",
    "    y_pred_v1 = model_1(X_test)"
   ]
  },
  {
   "cell_type": "code",
   "execution_count": 39,
   "id": "b5724eff",
   "metadata": {},
   "outputs": [
    {
     "data": {
      "image/png": "[encoded data removed]",
      "text/plain": [
       "<Figure size 1000x700 with 1 Axes>"
      ]
     },
     "metadata": {},
     "output_type": "display_data"
    }
   ],
   "source": [
    "plot_predictions(predictions=y_pred_v1)"
   ]
  },
  {
   "cell_type": "markdown",
   "id": "26df2185",
   "metadata": {},
   "source": [
    "### 6.3 Training and testing"
   ]
  },
  {
   "cell_type": "code",
   "execution_count": 40,
   "id": "886a6339",
   "metadata": {},
   "outputs": [],
   "source": [
    "# Setup the loss function\n",
    "loss_fn = nn.L1Loss()\n",
    "\n",
    "# setup the optimizer\n",
    "optimizer = torch.optim.SGD(params=model_1.parameters(),\n",
    "                            lr=0.01)"
   ]
  },
  {
   "cell_type": "code",
   "execution_count": 41,
   "id": "29cf362d",
   "metadata": {},
   "outputs": [
    {
     "name": "stdout",
     "output_type": "stream",
     "text": [
      "Epoch: 0 | Loss: 0.5551779866218567 | Test Loss: 0.5739762187004089\n",
      "Epoch: 10 | Loss: 0.4399680495262146 | Test Loss: 0.4392663538455963\n",
      "Epoch: 20 | Loss: 0.3247582018375397 | Test Loss: 0.30455657839775085\n",
      "Epoch: 30 | Loss: 0.20954827964305878 | Test Loss: 0.16984674334526062\n",
      "Epoch: 40 | Loss: 0.09433844685554504 | Test Loss: 0.03513689711689949\n",
      "Epoch: 50 | Loss: 0.023886386305093765 | Test Loss: 0.04784906655550003\n",
      "Epoch: 60 | Loss: 0.0199567973613739 | Test Loss: 0.04580312222242355\n",
      "Epoch: 70 | Loss: 0.016517987474799156 | Test Loss: 0.0375305712223053\n",
      "Epoch: 80 | Loss: 0.013089170679450035 | Test Loss: 0.029944902285933495\n",
      "Epoch: 90 | Loss: 0.009653178043663502 | Test Loss: 0.02167237363755703\n",
      "Epoch: 100 | Loss: 0.006215679459273815 | Test Loss: 0.014086711220443249\n",
      "Epoch: 110 | Loss: 0.002787243574857712 | Test Loss: 0.005814164876937866\n",
      "Epoch: 120 | Loss: 0.0012645035749301314 | Test Loss: 0.013801807537674904\n",
      "Epoch: 130 | Loss: 0.0012645035749301314 | Test Loss: 0.013801807537674904\n",
      "Epoch: 140 | Loss: 0.0012645035749301314 | Test Loss: 0.013801807537674904\n",
      "Epoch: 150 | Loss: 0.0012645035749301314 | Test Loss: 0.013801807537674904\n",
      "Epoch: 160 | Loss: 0.0012645035749301314 | Test Loss: 0.013801807537674904\n",
      "Epoch: 170 | Loss: 0.0012645035749301314 | Test Loss: 0.013801807537674904\n",
      "Epoch: 180 | Loss: 0.0012645035749301314 | Test Loss: 0.013801807537674904\n",
      "Epoch: 190 | Loss: 0.0012645035749301314 | Test Loss: 0.013801807537674904\n"
     ]
    }
   ],
   "source": [
    "# Training\n",
    "torch.manual_seed(42)\n",
    "\n",
    "epochs = 200\n",
    "\n",
    "for epoch in range(epochs):\n",
    "    model_1.train()\n",
    "\n",
    "    y_pred = model_1(X_train)\n",
    "    loss = loss_fn(y_pred, y_train)\n",
    "    optimizer.zero_grad()\n",
    "    loss.backward()\n",
    "    optimizer.step()\n",
    "\n",
    "    # Testing\n",
    "    model_1.eval()\n",
    "    with torch.inference_mode():\n",
    "        test_pred = model_1(X_test)\n",
    "\n",
    "        test_loss = loss_fn(test_pred, y_test)\n",
    "\n",
    "    if epoch % 10 == 0:\n",
    "        print(f\"Epoch: {epoch} | Loss: {loss} | Test Loss: {test_loss}\")"
   ]
  },
  {
   "cell_type": "code",
   "execution_count": 43,
   "id": "fd2a03eb",
   "metadata": {},
   "outputs": [
    {
     "data": {
      "text/plain": [
       "OrderedDict([('linear_layer.weight', tensor([[0.6968]])),\n",
       "             ('linear_layer.bias', tensor([0.3025]))])"
      ]
     },
     "execution_count": 43,
     "metadata": {},
     "output_type": "execute_result"
    }
   ],
   "source": [
    "model_1.state_dict()"
   ]
  },
  {
   "cell_type": "code",
   "execution_count": 44,
   "id": "2930169c",
   "metadata": {},
   "outputs": [
    {
     "data": {
      "text/plain": [
       "(0.7, 0.3)"
      ]
     },
     "execution_count": 44,
     "metadata": {},
     "output_type": "execute_result"
    }
   ],
   "source": [
    "weight, bias"
   ]
  },
  {
   "cell_type": "markdown",
   "id": "2cde44b5",
   "metadata": {},
   "source": [
    "### 6.4 Making and evaluating predicting"
   ]
  },
  {
   "cell_type": "code",
   "execution_count": 45,
   "id": "ff639884",
   "metadata": {},
   "outputs": [],
   "source": [
    "model_1.eval()\n",
    "\n",
    "# Make predictions on the test data\n",
    "with torch.inference_mode():\n",
    "    y_pred = model_1(X_test)"
   ]
  },
  {
   "cell_type": "code",
   "execution_count": 47,
   "id": "6dbba116",
   "metadata": {},
   "outputs": [
    {
     "data": {
      "text/plain": [
       "tensor([[0.8600],\n",
       "        [0.8739],\n",
       "        [0.8878],\n",
       "        [0.9018],\n",
       "        [0.9157],\n",
       "        [0.9296],\n",
       "        [0.9436],\n",
       "        [0.9575],\n",
       "        [0.9714],\n",
       "        [0.9854]])"
      ]
     },
     "execution_count": 47,
     "metadata": {},
     "output_type": "execute_result"
    }
   ],
   "source": [
    "y_pred"
   ]
  },
  {
   "cell_type": "code",
   "execution_count": 46,
   "id": "6637843c",
   "metadata": {},
   "outputs": [
    {
     "data": {
      "image/png": "[encoded data removed]",
      "text/plain": [
       "<Figure size 1000x700 with 1 Axes>"
      ]
     },
     "metadata": {},
     "output_type": "display_data"
    }
   ],
   "source": [
    "plot_predictions(predictions=y_pred)"
   ]
  },
  {
   "cell_type": "markdown",
   "id": "6c27d455",
   "metadata": {},
   "source": [
    "### 6.5 Model saving and loading"
   ]
  },
  {
   "cell_type": "code",
   "execution_count": 49,
   "id": "0f3da44a",
   "metadata": {},
   "outputs": [],
   "source": [
    "torch.save(model_1, r\"models\\model_1\")"
   ]
  },
  {
   "cell_type": "code",
   "execution_count": 55,
   "id": "055f02ed",
   "metadata": {},
   "outputs": [],
   "source": [
    "loaded_model_1 = torch.load(r\"models\\model_1\", weights_only=False)"
   ]
  },
  {
   "cell_type": "code",
   "execution_count": 57,
   "id": "a2c418f2",
   "metadata": {},
   "outputs": [
    {
     "data": {
      "image/png": "[encoded data removed]",
      "text/plain": [
       "<Figure size 1000x700 with 1 Axes>"
      ]
     },
     "metadata": {},
     "output_type": "display_data"
    }
   ],
   "source": [
    "with torch.inference_mode():\n",
    "    new_pred = loaded_model_1(X_test)\n",
    "\n",
    "plot_predictions(predictions=new_pred)"
   ]
  },
  {
   "cell_type": "code",
   "execution_count": null,
   "id": "7b853ccc",
   "metadata": {},
   "outputs": [],
   "source": []
  }
 ],
 "metadata": {
  "kernelspec": {
   "display_name": "Python 3",
   "language": "python",
   "name": "python3"
  },
  "language_info": {
   "codemirror_mode": {
    "name": "ipython",
    "version": 3
   },
   "file_extension": ".py",
   "mimetype": "text/x-python",
   "name": "python",
   "nbconvert_exporter": "python",
   "pygments_lexer": "ipython3",
   "version": "3.12.10"
  }
 },
 "nbformat": 4,
 "nbformat_minor": 5
}
